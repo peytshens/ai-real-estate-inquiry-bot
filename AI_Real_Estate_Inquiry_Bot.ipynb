{
  "nbformat": 4,
  "nbformat_minor": 0,
  "metadata": {
    "colab": {
      "provenance": []
    },
    "kernelspec": {
      "name": "python3",
      "display_name": "Python 3"
    },
    "language_info": {
      "name": "python"
    }
  },
  "cells": [
    {
      "cell_type": "markdown",
      "source": [
        "# 🏡 AI-Powered Real Estate Inquiry Bot\n",
        "\n",
        "This is a beginner-friendly chatbot created using Python in Google Colab. It helps users choose between condominiums, lots, and townhouses — and gives a friendly, personalized response.\n",
        "\n",
        "This project is part of my application to ERNI Bootcamp to demonstrate my interest and potential in AI-powered development.\n"
      ],
      "metadata": {
        "id": "Oell-S5Tl6Fc"
      }
    },
    {
      "cell_type": "markdown",
      "source": [
        "## 🔧 How It Works\n",
        "\n",
        "- The bot asks for the user's name.\n",
        "- Then it asks what kind of property they're interested in.\n",
        "- Based on the answer, it returns a friendly message with location suggestions.\n",
        "- If the input is invalid, it shows an error message.\n",
        "\n",
        "No AI API is used yet — only Python and logic.\n"
      ],
      "metadata": {
        "id": "8FM2onhsnLW0"
      }
    },
    {
      "cell_type": "markdown",
      "source": [],
      "metadata": {
        "id": "N5OOGADRnOTB"
      }
    },
    {
      "cell_type": "code",
      "execution_count": 3,
      "metadata": {
        "colab": {
          "base_uri": "https://localhost:8080/"
        },
        "id": "R0KMHnKdXhhK",
        "outputId": "f6f883cc-6616-43b5-8e63-b4fefa71a4f1"
      },
      "outputs": [
        {
          "output_type": "stream",
          "name": "stdout",
          "text": [
            "Welcome to the Real Estate Inquiry Bot!\n",
            "What kind of property are you looking for?\n",
            "1 - Condominium\n",
            "2 - Lot\n",
            "3 - Townhouse\n",
            "Enter your choice (1/2/3): G\n",
            "\n",
            "Sorry, I didn't understand your choice. Please enter 1, 2, or 3.\n",
            "\n",
            "Thank you for using the Real Estate Inquiry Bot!\n"
          ]
        }
      ],
      "source": [
        "# 🏡 AI-Powered Real Estate Inquiry Bot (Basic Version)\n",
        "\n",
        "print(\"Welcome to the Real Estate Inquiry Bot!\")\n",
        "print(\"What kind of property are you looking for?\")\n",
        "print(\"1 - Condominium\")\n",
        "print(\"2 - Lot\")\n",
        "print(\"3 - Townhouse\")\n",
        "\n",
        "choice = input(\"Enter your choice (1/2/3): \")\n",
        "\n",
        "if choice == '1':\n",
        "    print(\"\\nCondos are great for city living! We have options in Makati, BGC, and Pasig.\")\n",
        "elif choice == '2':\n",
        "    print(\"\\nLooking for a lot? We have available raw lots in Antipolo, Taytay, and Bulacan.\")\n",
        "elif choice == '3':\n",
        "    print(\"\\nTownhouses give you more space! We have listings in Marikina, Cainta, and Quezon City.\")\n",
        "else:\n",
        "    print(\"\\nSorry, I didn't understand your choice. Please enter 1, 2, or 3.\")\n",
        "\n",
        "print(\"\\nThank you for using the Real Estate Inquiry Bot!\")\n"
      ]
    },
    {
      "cell_type": "code",
      "source": [
        "import time  # this lets us add delay for realism\n",
        "\n",
        "print(\"🏡 Welcome to the Real Estate Inquiry Bot!\")\n",
        "user_name = input(\"May I know your name? \")\n",
        "\n",
        "print(f\"\\nNice to meet you, {user_name}! 👋\")\n",
        "time.sleep(1)\n",
        "print(\"Let me help you find the right property.\")\n",
        "time.sleep(1)\n",
        "\n",
        "print(\"\\nWhat kind of property are you looking for?\")\n",
        "print(\"1 - Condominium\")\n",
        "print(\"2 - Lot\")\n",
        "print(\"3 - Townhouse\")\n",
        "\n",
        "choice = input(\"Enter your choice (1/2/3): \")\n",
        "\n",
        "if choice == '1':\n",
        "    print(f\"\\nThanks {user_name}! Condos are great for city living 🏙️.\")\n",
        "    print(\"We have options in Makati, BGC, and Pasig.\")\n",
        "elif choice == '2':\n",
        "    print(f\"\\nAwesome choice, {user_name}! 🌳 Lots are perfect for investment or building.\")\n",
        "    print(\"We have available raw lots in Antipolo, Taytay, and Bulacan.\")\n",
        "elif choice == '3':\n",
        "    print(f\"\\nGreat pick, {user_name}! 🏘️ Townhouses offer privacy and space.\")\n",
        "    print(\"Check out listings in Marikina, Cainta, and Quezon City.\")\n",
        "else:\n",
        "    print(f\"\\nOops! I didn't understand your input, {user_name}. Please try again using 1, 2, or 3.\")\n",
        "\n",
        "time.sleep(1)\n",
        "print(\"\\n✨ Thank you for using the Real Estate Inquiry Bot! Feel free to reach out again.\")\n"
      ],
      "metadata": {
        "colab": {
          "base_uri": "https://localhost:8080/"
        },
        "id": "N5mss3ASlF17",
        "outputId": "cea06a11-c1b3-4a05-9d58-3f47ba6fac90"
      },
      "execution_count": 5,
      "outputs": [
        {
          "output_type": "stream",
          "name": "stdout",
          "text": [
            "🏡 Welcome to the Real Estate Inquiry Bot!\n",
            "May I know your name? 2345\n",
            "\n",
            "Nice to meet you, 2345! 👋\n",
            "Let me help you find the right property.\n",
            "\n",
            "What kind of property are you looking for?\n",
            "1 - Condominium\n",
            "2 - Lot\n",
            "3 - Townhouse\n",
            "Enter your choice (1/2/3): 5\n",
            "\n",
            "Oops! I didn't understand your input, 2345. Please try again using 1, 2, or 3.\n",
            "\n",
            "✨ Thank you for using the Real Estate Inquiry Bot! Feel free to reach out again.\n"
          ]
        }
      ]
    },
    {
      "cell_type": "code",
      "source": [
        "print(\"🏡 Hi there! I'm your Real Estate Inquiry Bot.\")\n",
        "user_name = input(\"👤 What's your name? \")\n",
        "\n",
        "print(f\"\\nNice to meet you, {user_name}! 😊\")\n",
        "print(\"What kind of property are you interested in?\")\n",
        "print(\"1. Condominium\")\n",
        "print(\"2. Lot\")\n",
        "print(\"3. Townhouse\")\n",
        "\n",
        "while True:\n",
        "    choice = input(\"Please enter the number of your choice (1/2/3): \")\n",
        "\n",
        "    if choice == \"1\":\n",
        "        print(\"\\nGreat choice! Condominiums are perfect for city living. 🏙️\")\n",
        "        print(\"You might want to check out condos in Makati, BGC, or Ortigas.\")\n",
        "        break\n",
        "    elif choice == \"2\":\n",
        "        print(\"\\nLots are ideal if you want to build your dream home. 🌳\")\n",
        "        print(\"We have listings in Antipolo, Bulacan, and Cavite.\")\n",
        "        break\n",
        "    elif choice == \"3\":\n",
        "        print(\"\\nTownhouses are great for families who want more space. 🏠\")\n",
        "        print(\"You might want to check out options in Marikina or Cainta.\")\n",
        "        break\n",
        "    else:\n",
        "        print(\"\\n⚠️ Sorry, that's not a valid option. Please choose 1, 2, or 3.\")\n"
      ],
      "metadata": {
        "colab": {
          "base_uri": "https://localhost:8080/"
        },
        "id": "AMoHqwVen8AP",
        "outputId": "81ed7540-ce1c-442e-ae84-9c0f522f760e"
      },
      "execution_count": 7,
      "outputs": [
        {
          "output_type": "stream",
          "name": "stdout",
          "text": [
            "🏡 Hi there! I'm your Real Estate Inquiry Bot.\n",
            "👤 What's your name? Shen\n",
            "\n",
            "Nice to meet you, Shen! 😊\n",
            "What kind of property are you interested in?\n",
            "1. Condominium\n",
            "2. Lot\n",
            "3. Townhouse\n",
            "Please enter the number of your choice (1/2/3): d\n",
            "\n",
            "⚠️ Sorry, that's not a valid option. Please choose 1, 2, or 3.\n",
            "Please enter the number of your choice (1/2/3): s\n",
            "\n",
            "⚠️ Sorry, that's not a valid option. Please choose 1, 2, or 3.\n",
            "Please enter the number of your choice (1/2/3): 1\n",
            "\n",
            "Great choice! Condominiums are perfect for city living. 🏙️\n",
            "You might want to check out condos in Makati, BGC, or Ortigas.\n"
          ]
        }
      ]
    }
  ]
}