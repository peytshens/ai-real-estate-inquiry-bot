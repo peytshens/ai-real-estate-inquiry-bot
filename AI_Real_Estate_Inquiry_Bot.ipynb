{
  "cells": [
    {
      "cell_type": "code",
      "execution_count": null,
      "metadata": {
        "colab": {
          "background_save": true
        },
        "id": "cXkfNtI16KjK"
      },
      "outputs": [],
      "source": [
        "print(\"🏡 Hi there! I'm your Real Estate Inquiry Bot.\")\n",
        "user_name = input(\"👤 What's your name? \")\n",
        "\n",
        "print(f\"\\nNice to meet you, {user_name}! 😊\")\n",
        "print(\"What kind of property are you interested in?\")\n",
        "print(\"1. Condominium\")\n",
        "print(\"2. Lot\")\n",
        "print(\"3. Townhouse\")\n",
        "\n",
        "while True:\n",
        "    choice = input(\"Please enter the number of your choice (1/2/3): \")\n",
        "\n",
        "    if choice == \"1\":\n",
        "        print(\"\\nGreat choice! Condominiums are perfect for city living. 🏙️\")\n",
        "        print(\"You might want to check out condos in Makati, BGC, or Ortigas.\")\n",
        "        break\n",
        "    elif choice == \"2\":\n",
        "        print(\"\\nLots are ideal if you want to build your dream home. 🌳\")\n",
        "        print(\"We have listings in Antipolo, Bulacan, and Cavite.\")\n",
        "        break\n",
        "    elif choice == \"3\":\n",
        "        print(\"\\nTownhouses are great for families who want more space. 🏠\")\n",
        "        print(\"You might want to check out options in Marikina or Cainta.\")\n",
        "        break\n",
        "    else:\n",
        "        print(\"\\n⚠️ Sorry, that's not a valid option. Please choose 1, 2, or 3.\")\n"
      ]
    }
  ],
  "metadata": {
    "colab": {
      "provenance": []
    },
    "kernelspec": {
      "display_name": "Python 3",
      "name": "python3"
    },
    "language_info": {
      "name": "python"
    }
  },
  "nbformat": 4,
  "nbformat_minor": 0
}