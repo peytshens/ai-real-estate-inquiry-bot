print("🏡 Hi there! I'm your Real Estate Inquiry Bot.")
user_name = input("👤 What's your name? ")

print(f"\nNice to meet you, {user_name}! 😊")
print("What kind of property are you interested in?")
print("1. Condominium")
print("2. Lot")
print("3. Townhouse")

while True:
    choice = input("Please enter the number of your choice (1/2/3): ")

    if choice == "1":
        print("\nGreat choice! Condominiums are perfect for city living. 🏙️")
        print("You might want to check out condos in Makati, BGC, or Ortigas.")
        break
    elif choice == "2":
        print("\nLots are ideal if you want to build your dream home. 🌳")
        print("We have listings in Antipolo, Bulacan, and Cavite.")
        break
    elif choice == "3":
        print("\nTownhouses are great for families who want more space. 🏠")
        print("You might want to check out options in Marikina or Cainta.")
        break
    else:
        print("\n⚠️ Sorry, that's not a valid option. Please choose 1, 2, or 3.")
